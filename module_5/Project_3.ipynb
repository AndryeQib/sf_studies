{
 "cells": [
  {
   "cell_type": "markdown",
   "metadata": {},
   "source": [
    "### загрузка библиотек"
   ]
  },
  {
   "cell_type": "code",
   "execution_count": 1,
   "metadata": {
    "_cell_guid": "b1076dfc-b9ad-4769-8c92-a6c4dae69d19",
    "_uuid": "8f2839f25d086af736a60e9eeb907d3b93b6e0e5",
    "execution": {
     "iopub.execute_input": "2021-12-08T14:50:17.397697Z",
     "iopub.status.busy": "2021-12-08T14:50:17.397315Z",
     "iopub.status.idle": "2021-12-08T14:50:18.380934Z",
     "shell.execute_reply": "2021-12-08T14:50:18.379809Z",
     "shell.execute_reply.started": "2021-12-08T14:50:17.397567Z"
    }
   },
   "outputs": [],
   "source": [
    "import numpy as np # linear algebra\n",
    "import pandas as pd # data processing, CSV file I/O (e.g. pd.read_csv)\n",
    "\n",
    "from matplotlib import pyplot as plt\n",
    "import seaborn as sns\n",
    "%matplotlib inline"
   ]
  },
  {
   "cell_type": "markdown",
   "metadata": {},
   "source": [
    "### загрузка данных"
   ]
  },
  {
   "cell_type": "code",
   "execution_count": 2,
   "metadata": {
    "execution": {
     "iopub.execute_input": "2021-12-08T14:50:29.089563Z",
     "iopub.status.busy": "2021-12-08T14:50:29.088454Z",
     "iopub.status.idle": "2021-12-08T14:50:29.441447Z",
     "shell.execute_reply": "2021-12-08T14:50:29.440563Z",
     "shell.execute_reply.started": "2021-12-08T14:50:29.089516Z"
    }
   },
   "outputs": [],
   "source": [
    "df_train = pd.read_csv('train.csv')\n",
    "df_test = pd.read_csv('test.csv')\n",
    "sample_submission = pd.read_csv('sample_submission.csv')"
   ]
  },
  {
   "cell_type": "markdown",
   "metadata": {},
   "source": [
    "### полезные функции"
   ]
  },
  {
   "cell_type": "code",
   "execution_count": 3,
   "metadata": {},
   "outputs": [],
   "source": [
    "def missing_values_table(df):\n",
    "    \n",
    "        mis_val = df.isnull().sum()\n",
    "        mis_val_percent = 100 * df.isnull().sum() / len(df)\n",
    "        mis_val_table = pd.concat([mis_val, mis_val_percent], axis=1)\n",
    "        mis_val_table_ren_columns = mis_val_table.rename(\n",
    "        columns = {0 : 'Отсутствующих данных', 1 : '% от всех данных'})\n",
    "        \n",
    "        mis_val_table_ren_columns = mis_val_table_ren_columns[\n",
    "            mis_val_table_ren_columns.iloc[:,1] != 0].sort_values(\n",
    "        '% от всех данных', ascending=False).round(1)\n",
    "        \n",
    "        print (\"Было выбрано \" + str(df.shape[1]) + \" колонок.\\n\"      \n",
    "            \"Среди их \" + str(mis_val_table_ren_columns.shape[0]) +\n",
    "              \" с отсутствующими данными.\")\n",
    "        \n",
    "        return mis_val_table_ren_columns"
   ]
  },
  {
   "cell_type": "code",
   "execution_count": 4,
   "metadata": {},
   "outputs": [],
   "source": [
    "def age_gr(val):\n",
    "    if 20 <= val <= 29:\n",
    "        return 1\n",
    "    elif 30 <= val <= 39:\n",
    "        return 2\n",
    "    elif 40 <= val <= 49:\n",
    "        return 3\n",
    "    elif 50 <= val <= 59:\n",
    "        return 4\n",
    "    elif 60 <= val <= 69:\n",
    "        return 5\n",
    "    elif 70 <= val <= 79:\n",
    "        return 6\n",
    "    elif 80 <= val <= 84:\n",
    "        return 7"
   ]
  },
  {
   "cell_type": "markdown",
   "metadata": {},
   "source": [
    "### анализ загруженных данных"
   ]
  },
  {
   "cell_type": "code",
   "execution_count": 5,
   "metadata": {
    "execution": {
     "iopub.execute_input": "2021-12-08T14:50:33.841652Z",
     "iopub.status.busy": "2021-12-08T14:50:33.841350Z",
     "iopub.status.idle": "2021-12-08T14:50:33.850664Z",
     "shell.execute_reply": "2021-12-08T14:50:33.849593Z",
     "shell.execute_reply.started": "2021-12-08T14:50:33.841596Z"
    }
   },
   "outputs": [
    {
     "data": {
      "text/plain": [
       "(36349, 2)"
      ]
     },
     "execution_count": 5,
     "metadata": {},
     "output_type": "execute_result"
    }
   ],
   "source": [
    "sample_submission.shape"
   ]
  },
  {
   "cell_type": "code",
   "execution_count": 6,
   "metadata": {
    "execution": {
     "iopub.execute_input": "2021-12-08T14:50:40.591930Z",
     "iopub.status.busy": "2021-12-08T14:50:40.591294Z",
     "iopub.status.idle": "2021-12-08T14:50:40.598540Z",
     "shell.execute_reply": "2021-12-08T14:50:40.597749Z",
     "shell.execute_reply.started": "2021-12-08T14:50:40.591877Z"
    }
   },
   "outputs": [
    {
     "data": {
      "text/plain": [
       "(36349, 18)"
      ]
     },
     "execution_count": 6,
     "metadata": {},
     "output_type": "execute_result"
    }
   ],
   "source": [
    "df_test.shape"
   ]
  },
  {
   "cell_type": "code",
   "execution_count": 7,
   "metadata": {
    "execution": {
     "iopub.execute_input": "2021-12-08T14:50:42.939671Z",
     "iopub.status.busy": "2021-12-08T14:50:42.939339Z",
     "iopub.status.idle": "2021-12-08T14:50:43.018764Z",
     "shell.execute_reply": "2021-12-08T14:50:43.017792Z",
     "shell.execute_reply.started": "2021-12-08T14:50:42.939599Z"
    }
   },
   "outputs": [
    {
     "name": "stdout",
     "output_type": "stream",
     "text": [
      "<class 'pandas.core.frame.DataFrame'>\n",
      "RangeIndex: 73799 entries, 0 to 73798\n",
      "Data columns (total 19 columns):\n",
      " #   Column            Non-Null Count  Dtype  \n",
      "---  ------            --------------  -----  \n",
      " 0   client_id         73799 non-null  int64  \n",
      " 1   app_date          73799 non-null  object \n",
      " 2   education         73492 non-null  object \n",
      " 3   sex               73799 non-null  object \n",
      " 4   age               73799 non-null  int64  \n",
      " 5   car               73799 non-null  object \n",
      " 6   car_type          73799 non-null  object \n",
      " 7   decline_app_cnt   73799 non-null  int64  \n",
      " 8   good_work         73799 non-null  int64  \n",
      " 9   score_bki         73799 non-null  float64\n",
      " 10  bki_request_cnt   73799 non-null  int64  \n",
      " 11  region_rating     73799 non-null  int64  \n",
      " 12  home_address      73799 non-null  int64  \n",
      " 13  work_address      73799 non-null  int64  \n",
      " 14  income            73799 non-null  int64  \n",
      " 15  sna               73799 non-null  int64  \n",
      " 16  first_time        73799 non-null  int64  \n",
      " 17  foreign_passport  73799 non-null  object \n",
      " 18  default           73799 non-null  int64  \n",
      "dtypes: float64(1), int64(12), object(6)\n",
      "memory usage: 10.7+ MB\n"
     ]
    }
   ],
   "source": [
    "df_train.info()"
   ]
  },
  {
   "cell_type": "code",
   "execution_count": 8,
   "metadata": {
    "execution": {
     "iopub.execute_input": "2021-12-08T14:50:45.724823Z",
     "iopub.status.busy": "2021-12-08T14:50:45.723412Z",
     "iopub.status.idle": "2021-12-08T14:50:45.748867Z",
     "shell.execute_reply": "2021-12-08T14:50:45.748181Z",
     "shell.execute_reply.started": "2021-12-08T14:50:45.724766Z"
    }
   },
   "outputs": [
    {
     "data": {
      "text/html": [
       "<div>\n",
       "<style scoped>\n",
       "    .dataframe tbody tr th:only-of-type {\n",
       "        vertical-align: middle;\n",
       "    }\n",
       "\n",
       "    .dataframe tbody tr th {\n",
       "        vertical-align: top;\n",
       "    }\n",
       "\n",
       "    .dataframe thead th {\n",
       "        text-align: right;\n",
       "    }\n",
       "</style>\n",
       "<table border=\"1\" class=\"dataframe\">\n",
       "  <thead>\n",
       "    <tr style=\"text-align: right;\">\n",
       "      <th></th>\n",
       "      <th>client_id</th>\n",
       "      <th>app_date</th>\n",
       "      <th>education</th>\n",
       "      <th>sex</th>\n",
       "      <th>age</th>\n",
       "      <th>car</th>\n",
       "      <th>car_type</th>\n",
       "      <th>decline_app_cnt</th>\n",
       "      <th>good_work</th>\n",
       "      <th>score_bki</th>\n",
       "      <th>bki_request_cnt</th>\n",
       "      <th>region_rating</th>\n",
       "      <th>home_address</th>\n",
       "      <th>work_address</th>\n",
       "      <th>income</th>\n",
       "      <th>sna</th>\n",
       "      <th>first_time</th>\n",
       "      <th>foreign_passport</th>\n",
       "      <th>default</th>\n",
       "    </tr>\n",
       "  </thead>\n",
       "  <tbody>\n",
       "    <tr>\n",
       "      <th>0</th>\n",
       "      <td>25905</td>\n",
       "      <td>01FEB2014</td>\n",
       "      <td>SCH</td>\n",
       "      <td>M</td>\n",
       "      <td>62</td>\n",
       "      <td>Y</td>\n",
       "      <td>Y</td>\n",
       "      <td>0</td>\n",
       "      <td>0</td>\n",
       "      <td>-2.008753</td>\n",
       "      <td>1</td>\n",
       "      <td>50</td>\n",
       "      <td>1</td>\n",
       "      <td>2</td>\n",
       "      <td>18000</td>\n",
       "      <td>4</td>\n",
       "      <td>1</td>\n",
       "      <td>N</td>\n",
       "      <td>0</td>\n",
       "    </tr>\n",
       "    <tr>\n",
       "      <th>1</th>\n",
       "      <td>63161</td>\n",
       "      <td>12MAR2014</td>\n",
       "      <td>SCH</td>\n",
       "      <td>F</td>\n",
       "      <td>59</td>\n",
       "      <td>N</td>\n",
       "      <td>N</td>\n",
       "      <td>0</td>\n",
       "      <td>0</td>\n",
       "      <td>-1.532276</td>\n",
       "      <td>3</td>\n",
       "      <td>50</td>\n",
       "      <td>2</td>\n",
       "      <td>3</td>\n",
       "      <td>19000</td>\n",
       "      <td>4</td>\n",
       "      <td>1</td>\n",
       "      <td>N</td>\n",
       "      <td>0</td>\n",
       "    </tr>\n",
       "    <tr>\n",
       "      <th>2</th>\n",
       "      <td>25887</td>\n",
       "      <td>01FEB2014</td>\n",
       "      <td>SCH</td>\n",
       "      <td>M</td>\n",
       "      <td>25</td>\n",
       "      <td>Y</td>\n",
       "      <td>N</td>\n",
       "      <td>2</td>\n",
       "      <td>0</td>\n",
       "      <td>-1.408142</td>\n",
       "      <td>1</td>\n",
       "      <td>80</td>\n",
       "      <td>1</td>\n",
       "      <td>2</td>\n",
       "      <td>30000</td>\n",
       "      <td>1</td>\n",
       "      <td>4</td>\n",
       "      <td>Y</td>\n",
       "      <td>0</td>\n",
       "    </tr>\n",
       "    <tr>\n",
       "      <th>3</th>\n",
       "      <td>16222</td>\n",
       "      <td>23JAN2014</td>\n",
       "      <td>SCH</td>\n",
       "      <td>F</td>\n",
       "      <td>53</td>\n",
       "      <td>N</td>\n",
       "      <td>N</td>\n",
       "      <td>0</td>\n",
       "      <td>0</td>\n",
       "      <td>-2.057471</td>\n",
       "      <td>2</td>\n",
       "      <td>50</td>\n",
       "      <td>2</td>\n",
       "      <td>3</td>\n",
       "      <td>10000</td>\n",
       "      <td>1</td>\n",
       "      <td>3</td>\n",
       "      <td>N</td>\n",
       "      <td>0</td>\n",
       "    </tr>\n",
       "    <tr>\n",
       "      <th>4</th>\n",
       "      <td>101655</td>\n",
       "      <td>18APR2014</td>\n",
       "      <td>GRD</td>\n",
       "      <td>M</td>\n",
       "      <td>48</td>\n",
       "      <td>N</td>\n",
       "      <td>N</td>\n",
       "      <td>0</td>\n",
       "      <td>1</td>\n",
       "      <td>-1.244723</td>\n",
       "      <td>1</td>\n",
       "      <td>60</td>\n",
       "      <td>2</td>\n",
       "      <td>3</td>\n",
       "      <td>30000</td>\n",
       "      <td>1</td>\n",
       "      <td>4</td>\n",
       "      <td>Y</td>\n",
       "      <td>0</td>\n",
       "    </tr>\n",
       "  </tbody>\n",
       "</table>\n",
       "</div>"
      ],
      "text/plain": [
       "   client_id   app_date education sex  age car car_type  decline_app_cnt  \\\n",
       "0      25905  01FEB2014       SCH   M   62   Y        Y                0   \n",
       "1      63161  12MAR2014       SCH   F   59   N        N                0   \n",
       "2      25887  01FEB2014       SCH   M   25   Y        N                2   \n",
       "3      16222  23JAN2014       SCH   F   53   N        N                0   \n",
       "4     101655  18APR2014       GRD   M   48   N        N                0   \n",
       "\n",
       "   good_work  score_bki  bki_request_cnt  region_rating  home_address  \\\n",
       "0          0  -2.008753                1             50             1   \n",
       "1          0  -1.532276                3             50             2   \n",
       "2          0  -1.408142                1             80             1   \n",
       "3          0  -2.057471                2             50             2   \n",
       "4          1  -1.244723                1             60             2   \n",
       "\n",
       "   work_address  income  sna  first_time foreign_passport  default  \n",
       "0             2   18000    4           1                N        0  \n",
       "1             3   19000    4           1                N        0  \n",
       "2             2   30000    1           4                Y        0  \n",
       "3             3   10000    1           3                N        0  \n",
       "4             3   30000    1           4                Y        0  "
      ]
     },
     "execution_count": 8,
     "metadata": {},
     "output_type": "execute_result"
    }
   ],
   "source": [
    "df_train.head(5)"
   ]
  },
  {
   "cell_type": "code",
   "execution_count": 9,
   "metadata": {
    "execution": {
     "iopub.execute_input": "2021-12-08T14:50:47.813167Z",
     "iopub.status.busy": "2021-12-08T14:50:47.812387Z",
     "iopub.status.idle": "2021-12-08T14:50:47.853033Z",
     "shell.execute_reply": "2021-12-08T14:50:47.852119Z",
     "shell.execute_reply.started": "2021-12-08T14:50:47.813123Z"
    }
   },
   "outputs": [
    {
     "name": "stdout",
     "output_type": "stream",
     "text": [
      "<class 'pandas.core.frame.DataFrame'>\n",
      "RangeIndex: 36349 entries, 0 to 36348\n",
      "Data columns (total 18 columns):\n",
      " #   Column            Non-Null Count  Dtype  \n",
      "---  ------            --------------  -----  \n",
      " 0   client_id         36349 non-null  int64  \n",
      " 1   app_date          36349 non-null  object \n",
      " 2   education         36178 non-null  object \n",
      " 3   sex               36349 non-null  object \n",
      " 4   age               36349 non-null  int64  \n",
      " 5   car               36349 non-null  object \n",
      " 6   car_type          36349 non-null  object \n",
      " 7   decline_app_cnt   36349 non-null  int64  \n",
      " 8   good_work         36349 non-null  int64  \n",
      " 9   score_bki         36349 non-null  float64\n",
      " 10  bki_request_cnt   36349 non-null  int64  \n",
      " 11  region_rating     36349 non-null  int64  \n",
      " 12  home_address      36349 non-null  int64  \n",
      " 13  work_address      36349 non-null  int64  \n",
      " 14  income            36349 non-null  int64  \n",
      " 15  sna               36349 non-null  int64  \n",
      " 16  first_time        36349 non-null  int64  \n",
      " 17  foreign_passport  36349 non-null  object \n",
      "dtypes: float64(1), int64(11), object(6)\n",
      "memory usage: 5.0+ MB\n"
     ]
    }
   ],
   "source": [
    "df_test.info()"
   ]
  },
  {
   "cell_type": "code",
   "execution_count": 10,
   "metadata": {
    "execution": {
     "iopub.execute_input": "2021-12-08T14:50:50.366878Z",
     "iopub.status.busy": "2021-12-08T14:50:50.366313Z",
     "iopub.status.idle": "2021-12-08T14:50:50.375716Z",
     "shell.execute_reply": "2021-12-08T14:50:50.375010Z",
     "shell.execute_reply.started": "2021-12-08T14:50:50.366841Z"
    }
   },
   "outputs": [
    {
     "data": {
      "text/html": [
       "<div>\n",
       "<style scoped>\n",
       "    .dataframe tbody tr th:only-of-type {\n",
       "        vertical-align: middle;\n",
       "    }\n",
       "\n",
       "    .dataframe tbody tr th {\n",
       "        vertical-align: top;\n",
       "    }\n",
       "\n",
       "    .dataframe thead th {\n",
       "        text-align: right;\n",
       "    }\n",
       "</style>\n",
       "<table border=\"1\" class=\"dataframe\">\n",
       "  <thead>\n",
       "    <tr style=\"text-align: right;\">\n",
       "      <th></th>\n",
       "      <th>client_id</th>\n",
       "      <th>default</th>\n",
       "    </tr>\n",
       "  </thead>\n",
       "  <tbody>\n",
       "    <tr>\n",
       "      <th>0</th>\n",
       "      <td>74835</td>\n",
       "      <td>0</td>\n",
       "    </tr>\n",
       "    <tr>\n",
       "      <th>1</th>\n",
       "      <td>17527</td>\n",
       "      <td>0</td>\n",
       "    </tr>\n",
       "    <tr>\n",
       "      <th>2</th>\n",
       "      <td>75683</td>\n",
       "      <td>0</td>\n",
       "    </tr>\n",
       "    <tr>\n",
       "      <th>3</th>\n",
       "      <td>26883</td>\n",
       "      <td>0</td>\n",
       "    </tr>\n",
       "    <tr>\n",
       "      <th>4</th>\n",
       "      <td>28862</td>\n",
       "      <td>0</td>\n",
       "    </tr>\n",
       "  </tbody>\n",
       "</table>\n",
       "</div>"
      ],
      "text/plain": [
       "   client_id  default\n",
       "0      74835        0\n",
       "1      17527        0\n",
       "2      75683        0\n",
       "3      26883        0\n",
       "4      28862        0"
      ]
     },
     "execution_count": 10,
     "metadata": {},
     "output_type": "execute_result"
    }
   ],
   "source": [
    "sample_submission.head(5)"
   ]
  },
  {
   "cell_type": "code",
   "execution_count": 11,
   "metadata": {
    "execution": {
     "iopub.execute_input": "2021-12-08T14:50:52.493136Z",
     "iopub.status.busy": "2021-12-08T14:50:52.492380Z",
     "iopub.status.idle": "2021-12-08T14:50:52.504558Z",
     "shell.execute_reply": "2021-12-08T14:50:52.503692Z",
     "shell.execute_reply.started": "2021-12-08T14:50:52.493092Z"
    }
   },
   "outputs": [
    {
     "name": "stdout",
     "output_type": "stream",
     "text": [
      "<class 'pandas.core.frame.DataFrame'>\n",
      "RangeIndex: 36349 entries, 0 to 36348\n",
      "Data columns (total 2 columns):\n",
      " #   Column     Non-Null Count  Dtype\n",
      "---  ------     --------------  -----\n",
      " 0   client_id  36349 non-null  int64\n",
      " 1   default    36349 non-null  int64\n",
      "dtypes: int64(2)\n",
      "memory usage: 568.1 KB\n"
     ]
    }
   ],
   "source": [
    "sample_submission.info()"
   ]
  },
  {
   "cell_type": "code",
   "execution_count": 12,
   "metadata": {
    "execution": {
     "iopub.execute_input": "2021-12-08T14:50:54.591844Z",
     "iopub.status.busy": "2021-12-08T14:50:54.591354Z",
     "iopub.status.idle": "2021-12-08T14:50:54.670471Z",
     "shell.execute_reply": "2021-12-08T14:50:54.669541Z",
     "shell.execute_reply.started": "2021-12-08T14:50:54.591793Z"
    }
   },
   "outputs": [],
   "source": [
    "# ВАЖНО! дря корректной обработки признаков объединяем трейн и тест в один датасет\n",
    "df_train['sample'] = 1 # помечаем где у нас трейн\n",
    "df_test['sample'] = 0  # помечаем где у нас тест\n",
    "df_test['default'] = 0 # в тесте у нас нет значения Rating, мы его должны предсказать, по этому пока просто заполняем нулями\n",
    "\n",
    "data = df_test.append(df_train, sort=False).reset_index(drop=True) # объединяем"
   ]
  },
  {
   "cell_type": "code",
   "execution_count": 13,
   "metadata": {},
   "outputs": [
    {
     "name": "stdout",
     "output_type": "stream",
     "text": [
      "Было выбрано 20 колонок.\n",
      "Среди их 1 с отсутствующими данными.\n"
     ]
    },
    {
     "data": {
      "text/html": [
       "<div>\n",
       "<style scoped>\n",
       "    .dataframe tbody tr th:only-of-type {\n",
       "        vertical-align: middle;\n",
       "    }\n",
       "\n",
       "    .dataframe tbody tr th {\n",
       "        vertical-align: top;\n",
       "    }\n",
       "\n",
       "    .dataframe thead th {\n",
       "        text-align: right;\n",
       "    }\n",
       "</style>\n",
       "<table border=\"1\" class=\"dataframe\">\n",
       "  <thead>\n",
       "    <tr style=\"text-align: right;\">\n",
       "      <th></th>\n",
       "      <th>Отсутствующих данных</th>\n",
       "      <th>% от всех данных</th>\n",
       "    </tr>\n",
       "  </thead>\n",
       "  <tbody>\n",
       "    <tr>\n",
       "      <th>education</th>\n",
       "      <td>478</td>\n",
       "      <td>0.4</td>\n",
       "    </tr>\n",
       "  </tbody>\n",
       "</table>\n",
       "</div>"
      ],
      "text/plain": [
       "           Отсутствующих данных  % от всех данных\n",
       "education                   478               0.4"
      ]
     },
     "execution_count": 13,
     "metadata": {},
     "output_type": "execute_result"
    }
   ],
   "source": [
    "missing_values_table(data)"
   ]
  },
  {
   "cell_type": "code",
   "execution_count": 14,
   "metadata": {
    "execution": {
     "iopub.execute_input": "2021-12-08T14:51:08.829405Z",
     "iopub.status.busy": "2021-12-08T14:51:08.829099Z",
     "iopub.status.idle": "2021-12-08T14:51:08.916514Z",
     "shell.execute_reply": "2021-12-08T14:51:08.915541Z",
     "shell.execute_reply.started": "2021-12-08T14:51:08.829371Z"
    }
   },
   "outputs": [
    {
     "data": {
      "text/plain": [
       "client_id           110148\n",
       "app_date               120\n",
       "education                6\n",
       "sex                      2\n",
       "age                     52\n",
       "car                      2\n",
       "car_type                 2\n",
       "decline_app_cnt         24\n",
       "good_work                2\n",
       "score_bki           102618\n",
       "bki_request_cnt         40\n",
       "region_rating            7\n",
       "home_address             3\n",
       "work_address             3\n",
       "income                1207\n",
       "sna                      4\n",
       "first_time               4\n",
       "foreign_passport         2\n",
       "sample                   2\n",
       "default                  2\n",
       "dtype: int64"
      ]
     },
     "execution_count": 14,
     "metadata": {},
     "output_type": "execute_result"
    }
   ],
   "source": [
    "data.nunique(dropna=False)"
   ]
  },
  {
   "cell_type": "code",
   "execution_count": 15,
   "metadata": {
    "execution": {
     "iopub.execute_input": "2021-12-08T14:51:12.455040Z",
     "iopub.status.busy": "2021-12-08T14:51:12.454697Z",
     "iopub.status.idle": "2021-12-08T14:51:12.460235Z",
     "shell.execute_reply": "2021-12-08T14:51:12.459255Z",
     "shell.execute_reply.started": "2021-12-08T14:51:12.455003Z"
    }
   },
   "outputs": [],
   "source": [
    "num_cols = ['age', 'score_bki', 'decline_app_cnt', 'score_bki', 'bki_request_cnt', 'income']\n",
    "cat_cols = ['education', 'first_time', 'sna', 'work_address', 'home_address', 'region_rating']\n",
    "bin_cols = ['sex', 'car', 'car_type', 'good_work', 'foreign_passport']"
   ]
  },
  {
   "cell_type": "code",
   "execution_count": 16,
   "metadata": {},
   "outputs": [
    {
     "data": {
      "text/plain": [
       "<AxesSubplot:xlabel='income', ylabel='Count'>"
      ]
     },
     "execution_count": 16,
     "metadata": {},
     "output_type": "execute_result"
    },
    {
     "data": {
      "image/png": "[encoded data removed]",
      "text/plain": [
       "<Figure size 1080x1080 with 6 Axes>"
      ]
     },
     "metadata": {
      "needs_background": "light"
     },
     "output_type": "display_data"
    }
   ],
   "source": [
    "fig, axes = plt.subplots(3, 2, figsize=(15,15))\n",
    "\n",
    "sns.histplot(data=data['age'], ax=axes[0,0])\n",
    "sns.histplot(data=data['score_bki'], ax=axes[0,1])\n",
    "sns.histplot(data=data['decline_app_cnt'], ax=axes[1,0])\n",
    "sns.histplot(data=data['score_bki'], ax=axes[1,1])\n",
    "sns.histplot(data=data['bki_request_cnt'], ax=axes[2,0])\n",
    "sns.histplot(data=data['income'], ax=axes[2,1])"
   ]
  },
  {
   "cell_type": "code",
   "execution_count": 17,
   "metadata": {},
   "outputs": [
    {
     "data": {
      "text/plain": [
       "Text(0.5, 1.0, 'income')"
      ]
     },
     "execution_count": 17,
     "metadata": {},
     "output_type": "execute_result"
    },
    {
     "data": {
      "image/png": "[encoded data removed]",
      "text/plain": [
       "<Figure size 1080x1080 with 6 Axes>"
      ]
     },
     "metadata": {
      "needs_background": "light"
     },
     "output_type": "display_data"
    }
   ],
   "source": [
    "fig, axes = plt.subplots(3, 2, figsize=(15,15))\n",
    "\n",
    "sns.boxplot(data=data['age'], ax=axes[0,0]).set_title(\"age\")\n",
    "sns.boxplot(data=data['score_bki'], ax=axes[0,1]).set_title(\"score_bki\")\n",
    "sns.boxplot(data=data['decline_app_cnt'], ax=axes[1,0]).set_title(\"decline_app_cnt\")\n",
    "sns.boxplot(data=data['score_bki'], ax=axes[1,1]).set_title(\"score_bki\")\n",
    "sns.boxplot(data=data['bki_request_cnt'], ax=axes[2,0]).set_title(\"bki_request_cnt\")\n",
    "sns.boxplot(data=data['income'], ax=axes[2,1]).set_title(\"income\")"
   ]
  },
  {
   "cell_type": "code",
   "execution_count": 18,
   "metadata": {},
   "outputs": [],
   "source": [
    "cols = ['decline_app_cnt', 'bki_request_cnt', 'income']\n",
    "for col in cols:\n",
    "    data[col] = data[col].apply(lambda w: np.log(w + 1))"
   ]
  },
  {
   "cell_type": "code",
   "execution_count": 19,
   "metadata": {
    "execution": {
     "iopub.execute_input": "2021-12-08T14:51:14.777008Z",
     "iopub.status.busy": "2021-12-08T14:51:14.776715Z",
     "iopub.status.idle": "2021-12-08T14:51:15.015597Z",
     "shell.execute_reply": "2021-12-08T14:51:15.014698Z",
     "shell.execute_reply.started": "2021-12-08T14:51:14.776978Z"
    }
   },
   "outputs": [
    {
     "data": {
      "text/plain": [
       "<AxesSubplot:>"
      ]
     },
     "execution_count": 19,
     "metadata": {},
     "output_type": "execute_result"
    },
    {
     "data": {
      "image/png": "[encoded data removed]",
      "text/plain": [
       "<Figure size 432x288 with 1 Axes>"
      ]
     },
     "metadata": {
      "needs_background": "light"
     },
     "output_type": "display_data"
    }
   ],
   "source": [
    "data['default'].value_counts(ascending=True).plot(kind='barh')"
   ]
  },
  {
   "cell_type": "code",
   "execution_count": 20,
   "metadata": {
    "execution": {
     "iopub.execute_input": "2021-12-08T14:50:59.947898Z",
     "iopub.status.busy": "2021-12-08T14:50:59.947361Z",
     "iopub.status.idle": "2021-12-08T14:50:59.967841Z",
     "shell.execute_reply": "2021-12-08T14:50:59.966892Z",
     "shell.execute_reply.started": "2021-12-08T14:50:59.947855Z"
    }
   },
   "outputs": [],
   "source": [
    "data['education'] = data.education.fillna('blank')"
   ]
  },
  {
   "cell_type": "code",
   "execution_count": 21,
   "metadata": {
    "execution": {
     "iopub.execute_input": "2021-12-08T14:51:05.499392Z",
     "iopub.status.busy": "2021-12-08T14:51:05.499097Z",
     "iopub.status.idle": "2021-12-08T14:51:05.593962Z",
     "shell.execute_reply": "2021-12-08T14:51:05.593113Z",
     "shell.execute_reply.started": "2021-12-08T14:51:05.499359Z"
    }
   },
   "outputs": [],
   "source": [
    "data['age_groups'] = data.age.apply(age_gr)"
   ]
  },
  {
   "cell_type": "code",
   "execution_count": 22,
   "metadata": {
    "execution": {
     "iopub.execute_input": "2021-12-08T14:51:17.452482Z",
     "iopub.status.busy": "2021-12-08T14:51:17.452165Z",
     "iopub.status.idle": "2021-12-08T14:51:17.553688Z",
     "shell.execute_reply": "2021-12-08T14:51:17.552841Z",
     "shell.execute_reply.started": "2021-12-08T14:51:17.452441Z"
    }
   },
   "outputs": [],
   "source": [
    "data['app_date'] = pd.to_datetime(data['app_date'])\n",
    "data['app_date_day'] = data.app_date.dt.day\n",
    "data['app_date_weekday'] = data.app_date.dt.weekday\n",
    "data['app_date_month'] = data.app_date.dt.month\n",
    "data['app_date_year'] = data.app_date.dt.year"
   ]
  },
  {
   "cell_type": "code",
   "execution_count": 23,
   "metadata": {
    "execution": {
     "iopub.execute_input": "2021-12-08T14:51:19.608743Z",
     "iopub.status.busy": "2021-12-08T14:51:19.608013Z",
     "iopub.status.idle": "2021-12-08T14:51:19.633148Z",
     "shell.execute_reply": "2021-12-08T14:51:19.632362Z",
     "shell.execute_reply.started": "2021-12-08T14:51:19.608685Z"
    }
   },
   "outputs": [],
   "source": [
    "data.drop(['client_id','app_date',], axis = 1, inplace=True)"
   ]
  },
  {
   "cell_type": "code",
   "execution_count": 24,
   "metadata": {
    "execution": {
     "iopub.execute_input": "2021-12-08T14:51:22.003491Z",
     "iopub.status.busy": "2021-12-08T14:51:22.003221Z",
     "iopub.status.idle": "2021-12-08T14:51:22.612268Z",
     "shell.execute_reply": "2021-12-08T14:51:22.611366Z",
     "shell.execute_reply.started": "2021-12-08T14:51:22.003463Z"
    }
   },
   "outputs": [],
   "source": [
    "from sklearn import preprocessing\n",
    "le = preprocessing.LabelEncoder()\n",
    "\n",
    "columns = ['age_groups', 'first_time', 'sna', 'work_address', 'home_address', 'region_rating']\n",
    "\n",
    "for column in columns:\n",
    "    data[column] = le.fit_transform(data[column])\n",
    "    \n",
    "for column in bin_cols:\n",
    "    data[column] = le.fit_transform(data[column])\n",
    "    \n",
    "for column in columns:\n",
    "    data = pd.get_dummies(data, columns=[column])"
   ]
  },
  {
   "cell_type": "code",
   "execution_count": 25,
   "metadata": {
    "execution": {
     "iopub.execute_input": "2021-12-08T14:51:25.043905Z",
     "iopub.status.busy": "2021-12-08T14:51:25.043043Z",
     "iopub.status.idle": "2021-12-08T14:51:25.086207Z",
     "shell.execute_reply": "2021-12-08T14:51:25.085425Z",
     "shell.execute_reply.started": "2021-12-08T14:51:25.043859Z"
    }
   },
   "outputs": [],
   "source": [
    "data = pd.get_dummies(data, columns=['education'], dummy_na=False)"
   ]
  },
  {
   "cell_type": "code",
   "execution_count": 26,
   "metadata": {
    "execution": {
     "iopub.execute_input": "2021-12-08T14:51:45.805799Z",
     "iopub.status.busy": "2021-12-08T14:51:45.805420Z",
     "iopub.status.idle": "2021-12-08T14:51:45.832462Z",
     "shell.execute_reply": "2021-12-08T14:51:45.831415Z",
     "shell.execute_reply.started": "2021-12-08T14:51:45.805753Z"
    }
   },
   "outputs": [
    {
     "name": "stdout",
     "output_type": "stream",
     "text": [
      "<class 'pandas.core.frame.DataFrame'>\n",
      "RangeIndex: 110148 entries, 0 to 110147\n",
      "Data columns (total 49 columns):\n",
      " #   Column            Non-Null Count   Dtype  \n",
      "---  ------            --------------   -----  \n",
      " 0   sex               110148 non-null  int32  \n",
      " 1   age               110148 non-null  int64  \n",
      " 2   car               110148 non-null  int32  \n",
      " 3   car_type          110148 non-null  int32  \n",
      " 4   decline_app_cnt   110148 non-null  float64\n",
      " 5   good_work         110148 non-null  int64  \n",
      " 6   score_bki         110148 non-null  float64\n",
      " 7   bki_request_cnt   110148 non-null  float64\n",
      " 8   income            110148 non-null  float64\n",
      " 9   foreign_passport  110148 non-null  int32  \n",
      " 10  sample            110148 non-null  int64  \n",
      " 11  default           110148 non-null  int64  \n",
      " 12  app_date_day      110148 non-null  int64  \n",
      " 13  app_date_weekday  110148 non-null  int64  \n",
      " 14  app_date_month    110148 non-null  int64  \n",
      " 15  app_date_year     110148 non-null  int64  \n",
      " 16  age_groups_0      110148 non-null  uint8  \n",
      " 17  age_groups_1      110148 non-null  uint8  \n",
      " 18  age_groups_2      110148 non-null  uint8  \n",
      " 19  age_groups_3      110148 non-null  uint8  \n",
      " 20  age_groups_4      110148 non-null  uint8  \n",
      " 21  age_groups_5      110148 non-null  uint8  \n",
      " 22  first_time_0      110148 non-null  uint8  \n",
      " 23  first_time_1      110148 non-null  uint8  \n",
      " 24  first_time_2      110148 non-null  uint8  \n",
      " 25  first_time_3      110148 non-null  uint8  \n",
      " 26  sna_0             110148 non-null  uint8  \n",
      " 27  sna_1             110148 non-null  uint8  \n",
      " 28  sna_2             110148 non-null  uint8  \n",
      " 29  sna_3             110148 non-null  uint8  \n",
      " 30  work_address_0    110148 non-null  uint8  \n",
      " 31  work_address_1    110148 non-null  uint8  \n",
      " 32  work_address_2    110148 non-null  uint8  \n",
      " 33  home_address_0    110148 non-null  uint8  \n",
      " 34  home_address_1    110148 non-null  uint8  \n",
      " 35  home_address_2    110148 non-null  uint8  \n",
      " 36  region_rating_0   110148 non-null  uint8  \n",
      " 37  region_rating_1   110148 non-null  uint8  \n",
      " 38  region_rating_2   110148 non-null  uint8  \n",
      " 39  region_rating_3   110148 non-null  uint8  \n",
      " 40  region_rating_4   110148 non-null  uint8  \n",
      " 41  region_rating_5   110148 non-null  uint8  \n",
      " 42  region_rating_6   110148 non-null  uint8  \n",
      " 43  education_ACD     110148 non-null  uint8  \n",
      " 44  education_GRD     110148 non-null  uint8  \n",
      " 45  education_PGR     110148 non-null  uint8  \n",
      " 46  education_SCH     110148 non-null  uint8  \n",
      " 47  education_UGR     110148 non-null  uint8  \n",
      " 48  education_blank   110148 non-null  uint8  \n",
      "dtypes: float64(4), int32(4), int64(8), uint8(33)\n",
      "memory usage: 15.2 MB\n"
     ]
    }
   ],
   "source": [
    "data.info()"
   ]
  },
  {
   "cell_type": "code",
   "execution_count": 27,
   "metadata": {
    "execution": {
     "iopub.execute_input": "2021-12-08T14:51:51.496546Z",
     "iopub.status.busy": "2021-12-08T14:51:51.496123Z",
     "iopub.status.idle": "2021-12-08T14:51:51.535264Z",
     "shell.execute_reply": "2021-12-08T14:51:51.534424Z",
     "shell.execute_reply.started": "2021-12-08T14:51:51.496515Z"
    }
   },
   "outputs": [
    {
     "data": {
      "text/html": [
       "<div>\n",
       "<style scoped>\n",
       "    .dataframe tbody tr th:only-of-type {\n",
       "        vertical-align: middle;\n",
       "    }\n",
       "\n",
       "    .dataframe tbody tr th {\n",
       "        vertical-align: top;\n",
       "    }\n",
       "\n",
       "    .dataframe thead th {\n",
       "        text-align: right;\n",
       "    }\n",
       "</style>\n",
       "<table border=\"1\" class=\"dataframe\">\n",
       "  <thead>\n",
       "    <tr style=\"text-align: right;\">\n",
       "      <th></th>\n",
       "      <th>sex</th>\n",
       "      <th>age</th>\n",
       "      <th>car</th>\n",
       "      <th>car_type</th>\n",
       "      <th>decline_app_cnt</th>\n",
       "      <th>good_work</th>\n",
       "      <th>score_bki</th>\n",
       "      <th>bki_request_cnt</th>\n",
       "      <th>income</th>\n",
       "      <th>foreign_passport</th>\n",
       "      <th>...</th>\n",
       "      <th>region_rating_3</th>\n",
       "      <th>region_rating_4</th>\n",
       "      <th>region_rating_5</th>\n",
       "      <th>region_rating_6</th>\n",
       "      <th>education_ACD</th>\n",
       "      <th>education_GRD</th>\n",
       "      <th>education_PGR</th>\n",
       "      <th>education_SCH</th>\n",
       "      <th>education_UGR</th>\n",
       "      <th>education_blank</th>\n",
       "    </tr>\n",
       "  </thead>\n",
       "  <tbody>\n",
       "    <tr>\n",
       "      <th>0</th>\n",
       "      <td>1</td>\n",
       "      <td>29</td>\n",
       "      <td>1</td>\n",
       "      <td>1</td>\n",
       "      <td>0.000000</td>\n",
       "      <td>0</td>\n",
       "      <td>-2.271884</td>\n",
       "      <td>1.386294</td>\n",
       "      <td>10.819798</td>\n",
       "      <td>0</td>\n",
       "      <td>...</td>\n",
       "      <td>1</td>\n",
       "      <td>0</td>\n",
       "      <td>0</td>\n",
       "      <td>0</td>\n",
       "      <td>0</td>\n",
       "      <td>1</td>\n",
       "      <td>0</td>\n",
       "      <td>0</td>\n",
       "      <td>0</td>\n",
       "      <td>0</td>\n",
       "    </tr>\n",
       "    <tr>\n",
       "      <th>1</th>\n",
       "      <td>0</td>\n",
       "      <td>39</td>\n",
       "      <td>0</td>\n",
       "      <td>0</td>\n",
       "      <td>1.791759</td>\n",
       "      <td>0</td>\n",
       "      <td>-1.504999</td>\n",
       "      <td>1.098612</td>\n",
       "      <td>8.517393</td>\n",
       "      <td>0</td>\n",
       "      <td>...</td>\n",
       "      <td>1</td>\n",
       "      <td>0</td>\n",
       "      <td>0</td>\n",
       "      <td>0</td>\n",
       "      <td>0</td>\n",
       "      <td>0</td>\n",
       "      <td>0</td>\n",
       "      <td>1</td>\n",
       "      <td>0</td>\n",
       "      <td>0</td>\n",
       "    </tr>\n",
       "    <tr>\n",
       "      <th>2</th>\n",
       "      <td>1</td>\n",
       "      <td>50</td>\n",
       "      <td>1</td>\n",
       "      <td>1</td>\n",
       "      <td>0.000000</td>\n",
       "      <td>0</td>\n",
       "      <td>-1.691339</td>\n",
       "      <td>0.693147</td>\n",
       "      <td>10.308986</td>\n",
       "      <td>1</td>\n",
       "      <td>...</td>\n",
       "      <td>1</td>\n",
       "      <td>0</td>\n",
       "      <td>0</td>\n",
       "      <td>0</td>\n",
       "      <td>0</td>\n",
       "      <td>0</td>\n",
       "      <td>0</td>\n",
       "      <td>0</td>\n",
       "      <td>1</td>\n",
       "      <td>0</td>\n",
       "    </tr>\n",
       "    <tr>\n",
       "      <th>3</th>\n",
       "      <td>1</td>\n",
       "      <td>56</td>\n",
       "      <td>0</td>\n",
       "      <td>0</td>\n",
       "      <td>0.000000</td>\n",
       "      <td>0</td>\n",
       "      <td>-2.374182</td>\n",
       "      <td>0.693147</td>\n",
       "      <td>9.741027</td>\n",
       "      <td>0</td>\n",
       "      <td>...</td>\n",
       "      <td>0</td>\n",
       "      <td>0</td>\n",
       "      <td>0</td>\n",
       "      <td>0</td>\n",
       "      <td>0</td>\n",
       "      <td>0</td>\n",
       "      <td>0</td>\n",
       "      <td>1</td>\n",
       "      <td>0</td>\n",
       "      <td>0</td>\n",
       "    </tr>\n",
       "    <tr>\n",
       "      <th>4</th>\n",
       "      <td>0</td>\n",
       "      <td>38</td>\n",
       "      <td>0</td>\n",
       "      <td>0</td>\n",
       "      <td>0.000000</td>\n",
       "      <td>0</td>\n",
       "      <td>-2.487502</td>\n",
       "      <td>0.000000</td>\n",
       "      <td>11.695255</td>\n",
       "      <td>0</td>\n",
       "      <td>...</td>\n",
       "      <td>0</td>\n",
       "      <td>0</td>\n",
       "      <td>0</td>\n",
       "      <td>1</td>\n",
       "      <td>0</td>\n",
       "      <td>1</td>\n",
       "      <td>0</td>\n",
       "      <td>0</td>\n",
       "      <td>0</td>\n",
       "      <td>0</td>\n",
       "    </tr>\n",
       "    <tr>\n",
       "      <th>...</th>\n",
       "      <td>...</td>\n",
       "      <td>...</td>\n",
       "      <td>...</td>\n",
       "      <td>...</td>\n",
       "      <td>...</td>\n",
       "      <td>...</td>\n",
       "      <td>...</td>\n",
       "      <td>...</td>\n",
       "      <td>...</td>\n",
       "      <td>...</td>\n",
       "      <td>...</td>\n",
       "      <td>...</td>\n",
       "      <td>...</td>\n",
       "      <td>...</td>\n",
       "      <td>...</td>\n",
       "      <td>...</td>\n",
       "      <td>...</td>\n",
       "      <td>...</td>\n",
       "      <td>...</td>\n",
       "      <td>...</td>\n",
       "      <td>...</td>\n",
       "    </tr>\n",
       "    <tr>\n",
       "      <th>110143</th>\n",
       "      <td>0</td>\n",
       "      <td>45</td>\n",
       "      <td>0</td>\n",
       "      <td>0</td>\n",
       "      <td>0.000000</td>\n",
       "      <td>0</td>\n",
       "      <td>-1.792064</td>\n",
       "      <td>1.386294</td>\n",
       "      <td>9.741027</td>\n",
       "      <td>0</td>\n",
       "      <td>...</td>\n",
       "      <td>1</td>\n",
       "      <td>0</td>\n",
       "      <td>0</td>\n",
       "      <td>0</td>\n",
       "      <td>0</td>\n",
       "      <td>1</td>\n",
       "      <td>0</td>\n",
       "      <td>0</td>\n",
       "      <td>0</td>\n",
       "      <td>0</td>\n",
       "    </tr>\n",
       "    <tr>\n",
       "      <th>110144</th>\n",
       "      <td>1</td>\n",
       "      <td>41</td>\n",
       "      <td>1</td>\n",
       "      <td>1</td>\n",
       "      <td>0.000000</td>\n",
       "      <td>0</td>\n",
       "      <td>-2.058029</td>\n",
       "      <td>0.693147</td>\n",
       "      <td>11.156265</td>\n",
       "      <td>0</td>\n",
       "      <td>...</td>\n",
       "      <td>1</td>\n",
       "      <td>0</td>\n",
       "      <td>0</td>\n",
       "      <td>0</td>\n",
       "      <td>0</td>\n",
       "      <td>0</td>\n",
       "      <td>0</td>\n",
       "      <td>1</td>\n",
       "      <td>0</td>\n",
       "      <td>0</td>\n",
       "    </tr>\n",
       "    <tr>\n",
       "      <th>110145</th>\n",
       "      <td>1</td>\n",
       "      <td>31</td>\n",
       "      <td>0</td>\n",
       "      <td>0</td>\n",
       "      <td>0.000000</td>\n",
       "      <td>0</td>\n",
       "      <td>-1.512635</td>\n",
       "      <td>1.609438</td>\n",
       "      <td>10.714440</td>\n",
       "      <td>0</td>\n",
       "      <td>...</td>\n",
       "      <td>0</td>\n",
       "      <td>0</td>\n",
       "      <td>0</td>\n",
       "      <td>1</td>\n",
       "      <td>0</td>\n",
       "      <td>0</td>\n",
       "      <td>0</td>\n",
       "      <td>1</td>\n",
       "      <td>0</td>\n",
       "      <td>0</td>\n",
       "    </tr>\n",
       "    <tr>\n",
       "      <th>110146</th>\n",
       "      <td>0</td>\n",
       "      <td>29</td>\n",
       "      <td>0</td>\n",
       "      <td>0</td>\n",
       "      <td>0.000000</td>\n",
       "      <td>1</td>\n",
       "      <td>-1.479334</td>\n",
       "      <td>1.386294</td>\n",
       "      <td>9.472782</td>\n",
       "      <td>0</td>\n",
       "      <td>...</td>\n",
       "      <td>1</td>\n",
       "      <td>0</td>\n",
       "      <td>0</td>\n",
       "      <td>0</td>\n",
       "      <td>0</td>\n",
       "      <td>0</td>\n",
       "      <td>0</td>\n",
       "      <td>1</td>\n",
       "      <td>0</td>\n",
       "      <td>0</td>\n",
       "    </tr>\n",
       "    <tr>\n",
       "      <th>110147</th>\n",
       "      <td>1</td>\n",
       "      <td>34</td>\n",
       "      <td>0</td>\n",
       "      <td>0</td>\n",
       "      <td>0.000000</td>\n",
       "      <td>0</td>\n",
       "      <td>-1.764711</td>\n",
       "      <td>1.098612</td>\n",
       "      <td>10.126671</td>\n",
       "      <td>0</td>\n",
       "      <td>...</td>\n",
       "      <td>1</td>\n",
       "      <td>0</td>\n",
       "      <td>0</td>\n",
       "      <td>0</td>\n",
       "      <td>0</td>\n",
       "      <td>1</td>\n",
       "      <td>0</td>\n",
       "      <td>0</td>\n",
       "      <td>0</td>\n",
       "      <td>0</td>\n",
       "    </tr>\n",
       "  </tbody>\n",
       "</table>\n",
       "<p>110148 rows × 49 columns</p>\n",
       "</div>"
      ],
      "text/plain": [
       "        sex  age  car  car_type  decline_app_cnt  good_work  score_bki  \\\n",
       "0         1   29    1         1         0.000000          0  -2.271884   \n",
       "1         0   39    0         0         1.791759          0  -1.504999   \n",
       "2         1   50    1         1         0.000000          0  -1.691339   \n",
       "3         1   56    0         0         0.000000          0  -2.374182   \n",
       "4         0   38    0         0         0.000000          0  -2.487502   \n",
       "...     ...  ...  ...       ...              ...        ...        ...   \n",
       "110143    0   45    0         0         0.000000          0  -1.792064   \n",
       "110144    1   41    1         1         0.000000          0  -2.058029   \n",
       "110145    1   31    0         0         0.000000          0  -1.512635   \n",
       "110146    0   29    0         0         0.000000          1  -1.479334   \n",
       "110147    1   34    0         0         0.000000          0  -1.764711   \n",
       "\n",
       "        bki_request_cnt     income  foreign_passport  ...  region_rating_3  \\\n",
       "0              1.386294  10.819798                 0  ...                1   \n",
       "1              1.098612   8.517393                 0  ...                1   \n",
       "2              0.693147  10.308986                 1  ...                1   \n",
       "3              0.693147   9.741027                 0  ...                0   \n",
       "4              0.000000  11.695255                 0  ...                0   \n",
       "...                 ...        ...               ...  ...              ...   \n",
       "110143         1.386294   9.741027                 0  ...                1   \n",
       "110144         0.693147  11.156265                 0  ...                1   \n",
       "110145         1.609438  10.714440                 0  ...                0   \n",
       "110146         1.386294   9.472782                 0  ...                1   \n",
       "110147         1.098612  10.126671                 0  ...                1   \n",
       "\n",
       "        region_rating_4  region_rating_5  region_rating_6  education_ACD  \\\n",
       "0                     0                0                0              0   \n",
       "1                     0                0                0              0   \n",
       "2                     0                0                0              0   \n",
       "3                     0                0                0              0   \n",
       "4                     0                0                1              0   \n",
       "...                 ...              ...              ...            ...   \n",
       "110143                0                0                0              0   \n",
       "110144                0                0                0              0   \n",
       "110145                0                0                1              0   \n",
       "110146                0                0                0              0   \n",
       "110147                0                0                0              0   \n",
       "\n",
       "        education_GRD  education_PGR  education_SCH  education_UGR  \\\n",
       "0                   1              0              0              0   \n",
       "1                   0              0              1              0   \n",
       "2                   0              0              0              1   \n",
       "3                   0              0              1              0   \n",
       "4                   1              0              0              0   \n",
       "...               ...            ...            ...            ...   \n",
       "110143              1              0              0              0   \n",
       "110144              0              0              1              0   \n",
       "110145              0              0              1              0   \n",
       "110146              0              0              1              0   \n",
       "110147              1              0              0              0   \n",
       "\n",
       "        education_blank  \n",
       "0                     0  \n",
       "1                     0  \n",
       "2                     0  \n",
       "3                     0  \n",
       "4                     0  \n",
       "...                 ...  \n",
       "110143                0  \n",
       "110144                0  \n",
       "110145                0  \n",
       "110146                0  \n",
       "110147                0  \n",
       "\n",
       "[110148 rows x 49 columns]"
      ]
     },
     "execution_count": 27,
     "metadata": {},
     "output_type": "execute_result"
    }
   ],
   "source": [
    "data"
   ]
  },
  {
   "cell_type": "markdown",
   "metadata": {},
   "source": [
    "### обучение"
   ]
  },
  {
   "cell_type": "code",
   "execution_count": 28,
   "metadata": {
    "execution": {
     "iopub.execute_input": "2021-12-08T14:51:53.887737Z",
     "iopub.status.busy": "2021-12-08T14:51:53.887429Z",
     "iopub.status.idle": "2021-12-08T14:51:53.940663Z",
     "shell.execute_reply": "2021-12-08T14:51:53.939682Z",
     "shell.execute_reply.started": "2021-12-08T14:51:53.887697Z"
    }
   },
   "outputs": [],
   "source": [
    "# Теперь выделим тестовую часть\n",
    "train_data = data.query('sample == 1').drop(['sample'], axis=1)\n",
    "test_data = data.query('sample == 0').drop(['sample', 'default'], axis=1)\n",
    "\n",
    "y = train_data['default'].values  # наш таргет\n",
    "X = train_data.drop(['default'], axis=1)"
   ]
  },
  {
   "cell_type": "code",
   "execution_count": 29,
   "metadata": {
    "execution": {
     "iopub.execute_input": "2021-12-08T14:51:56.239595Z",
     "iopub.status.busy": "2021-12-08T14:51:56.239284Z",
     "iopub.status.idle": "2021-12-08T14:51:56.326053Z",
     "shell.execute_reply": "2021-12-08T14:51:56.324931Z",
     "shell.execute_reply.started": "2021-12-08T14:51:56.239561Z"
    }
   },
   "outputs": [],
   "source": [
    "# Воспользуемся специальной функцие train_test_split для разбивки тестовых данных\n",
    "from sklearn.model_selection import train_test_split\n",
    "\n",
    "# выделим 20% данных на валидацию (параметр test_size)\n",
    "X_train, X_test, y_train, y_test = train_test_split(X, y, test_size=0.2, random_state=42)"
   ]
  },
  {
   "cell_type": "code",
   "execution_count": 30,
   "metadata": {
    "execution": {
     "iopub.execute_input": "2021-12-08T14:51:58.444048Z",
     "iopub.status.busy": "2021-12-08T14:51:58.443745Z",
     "iopub.status.idle": "2021-12-08T14:51:58.451489Z",
     "shell.execute_reply": "2021-12-08T14:51:58.450518Z",
     "shell.execute_reply.started": "2021-12-08T14:51:58.444018Z"
    }
   },
   "outputs": [
    {
     "data": {
      "text/plain": [
       "((59039, 47), (14760, 47), (59039,), (14760,))"
      ]
     },
     "execution_count": 30,
     "metadata": {},
     "output_type": "execute_result"
    }
   ],
   "source": [
    "# проверяем\n",
    "X_train.shape, X_test.shape, y_train.shape, y_test.shape"
   ]
  },
  {
   "cell_type": "code",
   "execution_count": 31,
   "metadata": {
    "execution": {
     "iopub.execute_input": "2021-12-08T14:52:00.835943Z",
     "iopub.status.busy": "2021-12-08T14:52:00.835664Z",
     "iopub.status.idle": "2021-12-08T14:52:00.927751Z",
     "shell.execute_reply": "2021-12-08T14:52:00.926876Z",
     "shell.execute_reply.started": "2021-12-08T14:52:00.835913Z"
    }
   },
   "outputs": [],
   "source": [
    "# Импортируем необходимые библиотеки:\n",
    "from sklearn.linear_model import LogisticRegression # инструмент для создания и обучения модели\n",
    "from sklearn import metrics # инструменты для оценки точности модели"
   ]
  },
  {
   "cell_type": "code",
   "execution_count": 32,
   "metadata": {
    "execution": {
     "iopub.execute_input": "2021-12-08T14:52:02.675863Z",
     "iopub.status.busy": "2021-12-08T14:52:02.675051Z",
     "iopub.status.idle": "2021-12-08T14:52:04.211788Z",
     "shell.execute_reply": "2021-12-08T14:52:04.210777Z",
     "shell.execute_reply.started": "2021-12-08T14:52:02.675821Z"
    }
   },
   "outputs": [],
   "source": [
    "logreg = LogisticRegression(class_weight='balanced', dual=False, fit_intercept=True, \n",
    "                            C=1.0, intercept_scaling=1, l1_ratio=None, max_iter=1000,\n",
    "                            multi_class='auto', n_jobs=None, penalty='none',\n",
    "                            random_state=None, solver='lbfgs', tol=0.001,\n",
    "                            verbose=0, warm_start=False)\n",
    "logreg.fit(X_train, y_train)\n",
    "y_pred = logreg.predict(X_test)"
   ]
  },
  {
   "cell_type": "code",
   "execution_count": 33,
   "metadata": {
    "execution": {
     "iopub.execute_input": "2021-12-08T14:55:40.749648Z",
     "iopub.status.busy": "2021-12-08T14:55:40.749312Z",
     "iopub.status.idle": "2021-12-08T14:55:40.780955Z",
     "shell.execute_reply": "2021-12-08T14:55:40.779690Z",
     "shell.execute_reply.started": "2021-12-08T14:55:40.749598Z"
    }
   },
   "outputs": [
    {
     "name": "stdout",
     "output_type": "stream",
     "text": [
      "              precision    recall  f1-score   support\n",
      "\n",
      "           0       0.94      0.67      0.78     12933\n",
      "           1       0.23      0.69      0.34      1827\n",
      "\n",
      "    accuracy                           0.67     14760\n",
      "   macro avg       0.58      0.68      0.56     14760\n",
      "weighted avg       0.85      0.67      0.73     14760\n",
      "\n"
     ]
    }
   ],
   "source": [
    "from sklearn.metrics import classification_report\n",
    "classification_report = classification_report(y_test, y_pred)\n",
    "print(classification_report)"
   ]
  },
  {
   "cell_type": "code",
   "execution_count": 34,
   "metadata": {
    "execution": {
     "iopub.execute_input": "2021-12-08T14:55:43.949274Z",
     "iopub.status.busy": "2021-12-08T14:55:43.948934Z",
     "iopub.status.idle": "2021-12-08T14:55:43.980829Z",
     "shell.execute_reply": "2021-12-08T14:55:43.979690Z",
     "shell.execute_reply.started": "2021-12-08T14:55:43.949223Z"
    }
   },
   "outputs": [
    {
     "name": "stdout",
     "output_type": "stream",
     "text": [
      "[[8652 4281]\n",
      " [ 573 1254]]\n"
     ]
    }
   ],
   "source": [
    "from sklearn.metrics import confusion_matrix\n",
    "\n",
    "print(confusion_matrix(y_test, y_pred))"
   ]
  },
  {
   "cell_type": "code",
   "execution_count": 35,
   "metadata": {
    "execution": {
     "iopub.execute_input": "2021-12-08T14:55:46.207528Z",
     "iopub.status.busy": "2021-12-08T14:55:46.206669Z",
     "iopub.status.idle": "2021-12-08T14:55:46.455405Z",
     "shell.execute_reply": "2021-12-08T14:55:46.454339Z",
     "shell.execute_reply.started": "2021-12-08T14:55:46.207488Z"
    }
   },
   "outputs": [
    {
     "data": {
      "image/png": "[encoded data removed]",
      "text/plain": [
       "<Figure size 432x288 with 1 Axes>"
      ]
     },
     "metadata": {
      "needs_background": "light"
     },
     "output_type": "display_data"
    }
   ],
   "source": [
    "from sklearn.metrics import roc_auc_score\n",
    "from sklearn.metrics import roc_curve\n",
    "\n",
    "roc_auc = roc_auc_score(y_test, y_pred)\n",
    "fpr, tpr, threshold = roc_curve(y_test, y_pred)\n",
    "\n",
    "plt.figure()\n",
    "plt.plot([0, 1], label='Baseline', linestyle='--')\n",
    "plt.plot(fpr, tpr, label = 'Regression')\n",
    "plt.title('Logistic Regression ROC AUC = %0.3f' % roc_auc)\n",
    "plt.ylabel('True Positive Rate')\n",
    "plt.xlabel('False Positive Rate')\n",
    "plt.legend(loc = 'lower right')\n",
    "plt.show()"
   ]
  },
  {
   "cell_type": "code",
   "execution_count": 36,
   "metadata": {
    "execution": {
     "iopub.execute_input": "2021-12-08T14:55:50.176207Z",
     "iopub.status.busy": "2021-12-08T14:55:50.175912Z",
     "iopub.status.idle": "2021-12-08T14:55:52.089833Z",
     "shell.execute_reply": "2021-12-08T14:55:52.088734Z",
     "shell.execute_reply.started": "2021-12-08T14:55:50.176176Z"
    }
   },
   "outputs": [
    {
     "data": {
      "text/plain": [
       "LogisticRegression(class_weight='balanced', max_iter=1000, penalty='none',\n",
       "                   tol=0.001)"
      ]
     },
     "execution_count": 36,
     "metadata": {},
     "output_type": "execute_result"
    }
   ],
   "source": [
    "# если качество нас устраивает, обучаем финальную модель на всех обучающи данных\n",
    "logreg_final = LogisticRegression(class_weight='balanced', dual=False, fit_intercept=True, \n",
    "                            C=1.0, intercept_scaling=1, l1_ratio=None, max_iter=1000,\n",
    "                            multi_class='auto', n_jobs=None, penalty='none',\n",
    "                            random_state=None, solver='lbfgs', tol=0.001,\n",
    "                            verbose=0, warm_start=False)\n",
    "logreg_final.fit(X, y)"
   ]
  },
  {
   "cell_type": "code",
   "execution_count": 37,
   "metadata": {
    "execution": {
     "iopub.execute_input": "2021-12-08T14:55:56.178997Z",
     "iopub.status.busy": "2021-12-08T14:55:56.178416Z",
     "iopub.status.idle": "2021-12-08T14:55:56.192960Z",
     "shell.execute_reply": "2021-12-08T14:55:56.191764Z",
     "shell.execute_reply.started": "2021-12-08T14:55:56.178960Z"
    }
   },
   "outputs": [],
   "source": [
    "predict_submission = logreg_final.predict(test_data)"
   ]
  },
  {
   "cell_type": "code",
   "execution_count": 38,
   "metadata": {
    "execution": {
     "iopub.execute_input": "2021-12-08T14:56:05.706185Z",
     "iopub.status.busy": "2021-12-08T14:56:05.705567Z",
     "iopub.status.idle": "2021-12-08T14:56:05.788563Z",
     "shell.execute_reply": "2021-12-08T14:56:05.787601Z",
     "shell.execute_reply.started": "2021-12-08T14:56:05.706132Z"
    }
   },
   "outputs": [
    {
     "data": {
      "text/html": [
       "<div>\n",
       "<style scoped>\n",
       "    .dataframe tbody tr th:only-of-type {\n",
       "        vertical-align: middle;\n",
       "    }\n",
       "\n",
       "    .dataframe tbody tr th {\n",
       "        vertical-align: top;\n",
       "    }\n",
       "\n",
       "    .dataframe thead th {\n",
       "        text-align: right;\n",
       "    }\n",
       "</style>\n",
       "<table border=\"1\" class=\"dataframe\">\n",
       "  <thead>\n",
       "    <tr style=\"text-align: right;\">\n",
       "      <th></th>\n",
       "      <th>client_id</th>\n",
       "      <th>default</th>\n",
       "    </tr>\n",
       "  </thead>\n",
       "  <tbody>\n",
       "    <tr>\n",
       "      <th>0</th>\n",
       "      <td>74835</td>\n",
       "      <td>0</td>\n",
       "    </tr>\n",
       "    <tr>\n",
       "      <th>1</th>\n",
       "      <td>17527</td>\n",
       "      <td>1</td>\n",
       "    </tr>\n",
       "    <tr>\n",
       "      <th>2</th>\n",
       "      <td>75683</td>\n",
       "      <td>0</td>\n",
       "    </tr>\n",
       "    <tr>\n",
       "      <th>3</th>\n",
       "      <td>26883</td>\n",
       "      <td>0</td>\n",
       "    </tr>\n",
       "    <tr>\n",
       "      <th>4</th>\n",
       "      <td>28862</td>\n",
       "      <td>0</td>\n",
       "    </tr>\n",
       "    <tr>\n",
       "      <th>5</th>\n",
       "      <td>99881</td>\n",
       "      <td>1</td>\n",
       "    </tr>\n",
       "    <tr>\n",
       "      <th>6</th>\n",
       "      <td>26630</td>\n",
       "      <td>1</td>\n",
       "    </tr>\n",
       "    <tr>\n",
       "      <th>7</th>\n",
       "      <td>79934</td>\n",
       "      <td>0</td>\n",
       "    </tr>\n",
       "    <tr>\n",
       "      <th>8</th>\n",
       "      <td>16605</td>\n",
       "      <td>0</td>\n",
       "    </tr>\n",
       "    <tr>\n",
       "      <th>9</th>\n",
       "      <td>105449</td>\n",
       "      <td>0</td>\n",
       "    </tr>\n",
       "  </tbody>\n",
       "</table>\n",
       "</div>"
      ],
      "text/plain": [
       "   client_id  default\n",
       "0      74835        0\n",
       "1      17527        1\n",
       "2      75683        0\n",
       "3      26883        0\n",
       "4      28862        0\n",
       "5      99881        1\n",
       "6      26630        1\n",
       "7      79934        0\n",
       "8      16605        0\n",
       "9     105449        0"
      ]
     },
     "execution_count": 38,
     "metadata": {},
     "output_type": "execute_result"
    }
   ],
   "source": [
    "sample_submission['default'] = predict_submission\n",
    "sample_submission.to_csv('submission.csv', index=False)\n",
    "sample_submission.head(10)"
   ]
  },
  {
   "cell_type": "code",
   "execution_count": 39,
   "metadata": {
    "execution": {
     "iopub.execute_input": "2021-12-08T14:56:15.001002Z",
     "iopub.status.busy": "2021-12-08T14:56:15.000708Z",
     "iopub.status.idle": "2021-12-08T14:56:15.024886Z",
     "shell.execute_reply": "2021-12-08T14:56:15.024020Z",
     "shell.execute_reply.started": "2021-12-08T14:56:15.000969Z"
    }
   },
   "outputs": [
    {
     "data": {
      "text/html": [
       "<div>\n",
       "<style scoped>\n",
       "    .dataframe tbody tr th:only-of-type {\n",
       "        vertical-align: middle;\n",
       "    }\n",
       "\n",
       "    .dataframe tbody tr th {\n",
       "        vertical-align: top;\n",
       "    }\n",
       "\n",
       "    .dataframe thead th {\n",
       "        text-align: right;\n",
       "    }\n",
       "</style>\n",
       "<table border=\"1\" class=\"dataframe\">\n",
       "  <thead>\n",
       "    <tr style=\"text-align: right;\">\n",
       "      <th></th>\n",
       "      <th>client_id</th>\n",
       "      <th>default</th>\n",
       "    </tr>\n",
       "  </thead>\n",
       "  <tbody>\n",
       "    <tr>\n",
       "      <th>count</th>\n",
       "      <td>36349.000000</td>\n",
       "      <td>36349.000000</td>\n",
       "    </tr>\n",
       "    <tr>\n",
       "      <th>mean</th>\n",
       "      <td>54945.647473</td>\n",
       "      <td>0.375526</td>\n",
       "    </tr>\n",
       "    <tr>\n",
       "      <th>std</th>\n",
       "      <td>31706.052195</td>\n",
       "      <td>0.484265</td>\n",
       "    </tr>\n",
       "    <tr>\n",
       "      <th>min</th>\n",
       "      <td>4.000000</td>\n",
       "      <td>0.000000</td>\n",
       "    </tr>\n",
       "    <tr>\n",
       "      <th>25%</th>\n",
       "      <td>27744.000000</td>\n",
       "      <td>0.000000</td>\n",
       "    </tr>\n",
       "    <tr>\n",
       "      <th>50%</th>\n",
       "      <td>54657.000000</td>\n",
       "      <td>0.000000</td>\n",
       "    </tr>\n",
       "    <tr>\n",
       "      <th>75%</th>\n",
       "      <td>82322.000000</td>\n",
       "      <td>1.000000</td>\n",
       "    </tr>\n",
       "    <tr>\n",
       "      <th>max</th>\n",
       "      <td>110148.000000</td>\n",
       "      <td>1.000000</td>\n",
       "    </tr>\n",
       "  </tbody>\n",
       "</table>\n",
       "</div>"
      ],
      "text/plain": [
       "           client_id       default\n",
       "count   36349.000000  36349.000000\n",
       "mean    54945.647473      0.375526\n",
       "std     31706.052195      0.484265\n",
       "min         4.000000      0.000000\n",
       "25%     27744.000000      0.000000\n",
       "50%     54657.000000      0.000000\n",
       "75%     82322.000000      1.000000\n",
       "max    110148.000000      1.000000"
      ]
     },
     "execution_count": 39,
     "metadata": {},
     "output_type": "execute_result"
    }
   ],
   "source": [
    "sample_submission.describe()"
   ]
  },
  {
   "cell_type": "code",
   "execution_count": null,
   "metadata": {},
   "outputs": [],
   "source": []
  }
 ],
 "metadata": {
  "kernelspec": {
   "display_name": "Python 3",
   "language": "python",
   "name": "python3"
  },
  "language_info": {
   "codemirror_mode": {
    "name": "ipython",
    "version": 3
   },
   "file_extension": ".py",
   "mimetype": "text/x-python",
   "name": "python",
   "nbconvert_exporter": "python",
   "pygments_lexer": "ipython3",
   "version": "3.8.5"
  }
 },
 "nbformat": 4,
 "nbformat_minor": 4
}
